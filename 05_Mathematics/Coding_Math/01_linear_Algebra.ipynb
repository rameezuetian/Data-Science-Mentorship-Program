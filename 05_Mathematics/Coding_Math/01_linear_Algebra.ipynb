{
 "cells": [
  {
   "cell_type": "markdown",
   "metadata": {},
   "source": [
    "# Linear Algebra in Python "
   ]
  },
  {
   "cell_type": "code",
   "execution_count": 3,
   "metadata": {},
   "outputs": [],
   "source": [
    "import numpy as np "
   ]
  },
  {
   "cell_type": "code",
   "execution_count": 4,
   "metadata": {},
   "outputs": [
    {
     "data": {
      "text/plain": [
       "array([[2, 3],\n",
       "       [5, 7]])"
      ]
     },
     "execution_count": 4,
     "metadata": {},
     "output_type": "execute_result"
    }
   ],
   "source": [
    "# Coefficient matrix a \n",
    "a= np.array([[2,3],[5,7]])\n",
    "a\n"
   ]
  },
  {
   "cell_type": "code",
   "execution_count": 8,
   "metadata": {},
   "outputs": [
    {
     "data": {
      "text/plain": [
       "array([8, 9])"
      ]
     },
     "execution_count": 8,
     "metadata": {},
     "output_type": "execute_result"
    }
   ],
   "source": [
    "# constant matrix b \n",
    "b = np.array([8,9])\n",
    "b"
   ]
  },
  {
   "cell_type": "code",
   "execution_count": 9,
   "metadata": {},
   "outputs": [
    {
     "data": {
      "text/plain": [
       "array([-29.,  22.])"
      ]
     },
     "execution_count": 9,
     "metadata": {},
     "output_type": "execute_result"
    }
   ],
   "source": [
    "# solve for x\n",
    "x=np.linalg.solve(a,b)\n",
    "x"
   ]
  },
  {
   "cell_type": "markdown",
   "metadata": {},
   "source": [
    "---"
   ]
  },
  {
   "cell_type": "markdown",
   "metadata": {},
   "source": [
    "# Solving the complex equations"
   ]
  },
  {
   "cell_type": "code",
   "execution_count": 13,
   "metadata": {},
   "outputs": [
    {
     "data": {
      "text/plain": [
       "array([[1.+2.j, 2.-1.j],\n",
       "       [3.-1.j, 4.+0.j]])"
      ]
     },
     "execution_count": 13,
     "metadata": {},
     "output_type": "execute_result"
    }
   ],
   "source": [
    "A_complex = np.array([[1+2j,2-1j],[3-1j,4]])\n",
    "A_complex"
   ]
  },
  {
   "cell_type": "code",
   "execution_count": 15,
   "metadata": {},
   "outputs": [
    {
     "data": {
      "text/plain": [
       "array([4.+1.j, 3.+4.j])"
      ]
     },
     "execution_count": 15,
     "metadata": {},
     "output_type": "execute_result"
    }
   ],
   "source": [
    "B_complex=np.array([4+1j,3+4j])\n",
    "B_complex"
   ]
  },
  {
   "cell_type": "code",
   "execution_count": 16,
   "metadata": {},
   "outputs": [
    {
     "data": {
      "text/plain": [
       "array([-0.11176471-0.45294118j,  0.94705882+1.31176471j])"
      ]
     },
     "execution_count": 16,
     "metadata": {},
     "output_type": "execute_result"
    }
   ],
   "source": [
    "X_complex=np.linalg.solve(A_complex,B_complex)\n",
    "X_complex"
   ]
  },
  {
   "cell_type": "markdown",
   "metadata": {},
   "source": [
    "---"
   ]
  },
  {
   "cell_type": "markdown",
   "metadata": {},
   "source": [
    "# How we do SVD in codeing \n"
   ]
  },
  {
   "cell_type": "code",
   "execution_count": 19,
   "metadata": {},
   "outputs": [
    {
     "data": {
      "text/plain": [
       "array([[0.38444217, 0.39219519, 0.08801883],\n",
       "       [0.65152005, 0.80652346, 0.89700201],\n",
       "       [0.37742708, 0.12468083, 0.43662749],\n",
       "       [0.82729628, 0.31923507, 0.52784382]])"
      ]
     },
     "execution_count": 19,
     "metadata": {},
     "output_type": "execute_result"
    }
   ],
   "source": [
    "# Generate a random matrix of 4X3\n",
    "x= np.random.rand(4,3)\n",
    "x\n"
   ]
  },
  {
   "cell_type": "code",
   "execution_count": 21,
   "metadata": {},
   "outputs": [
    {
     "name": "stdout",
     "output_type": "stream",
     "text": [
      "The u matrix is  [[-0.26638288 -0.00722433  0.85433573 -0.44620447]\n",
      " [-0.73565073  0.64205853 -0.13673791  0.16697778]\n",
      " [-0.30611464 -0.25710196 -0.49914824 -0.7687935 ]\n",
      " [-0.5423578  -0.72222381  0.04758393  0.4265871 ]]\n",
      "--------------------------\n",
      "The sigma marix is [1.8321584  0.38500651 0.31222774]\n",
      "--------------------------\n",
      "The vt matrix is [[-0.62545169 -0.49619068 -0.60216692]\n",
      " [-0.72464656  0.65553975  0.21249707]\n",
      " [ 0.28930529  0.56926483 -0.76957131]]\n"
     ]
    }
   ],
   "source": [
    "\n",
    "U,Sigma,VT =np.linalg.svd(x)\n",
    "print( f\"The u matrix is  {U}\")\n",
    "print(f\"--------------------------\")\n",
    "print(f\"The sigma marix is {Sigma}\")\n",
    "print(\"--------------------------\")\n",
    "print(f\"The vt matrix is {VT}\"\n",
    "      )"
   ]
  },
  {
   "cell_type": "code",
   "execution_count": 22,
   "metadata": {},
   "outputs": [
    {
     "data": {
      "text/plain": [
       "(4, 4)"
      ]
     },
     "execution_count": 22,
     "metadata": {},
     "output_type": "execute_result"
    }
   ],
   "source": [
    "U.shape"
   ]
  },
  {
   "cell_type": "code",
   "execution_count": 24,
   "metadata": {},
   "outputs": [
    {
     "data": {
      "text/plain": [
       "(3,)"
      ]
     },
     "execution_count": 24,
     "metadata": {},
     "output_type": "execute_result"
    }
   ],
   "source": [
    "Sigma.shape"
   ]
  },
  {
   "cell_type": "code",
   "execution_count": 25,
   "metadata": {},
   "outputs": [
    {
     "data": {
      "text/plain": [
       "(3, 3)"
      ]
     },
     "execution_count": 25,
     "metadata": {},
     "output_type": "execute_result"
    }
   ],
   "source": [
    "VT.shape"
   ]
  },
  {
   "cell_type": "markdown",
   "metadata": {},
   "source": [
    "---\n",
    "# Vector in Python"
   ]
  },
  {
   "cell_type": "code",
   "execution_count": 27,
   "metadata": {},
   "outputs": [],
   "source": [
    "import numpy as np\n",
    "import matplotlib.pyplot as plt\n"
   ]
  },
  {
   "cell_type": "code",
   "execution_count": 28,
   "metadata": {},
   "outputs": [
    {
     "data": {
      "text/plain": [
       "array([2, 3])"
      ]
     },
     "execution_count": 28,
     "metadata": {},
     "output_type": "execute_result"
    }
   ],
   "source": [
    "v= np.array([2,3])\n",
    "v"
   ]
  },
  {
   "cell_type": "code",
   "execution_count": 30,
   "metadata": {},
   "outputs": [
    {
     "data": {
      "image/png": "[encoded data removed]",
      "text/plain": [
       "<Figure size 640x480 with 1 Axes>"
      ]
     },
     "metadata": {},
     "output_type": "display_data"
    }
   ],
   "source": [
    "plt.figure()\n",
    "plt.quiver(0, 0, v[0], v[1], angles='xy', scale_units='xy',scale=1, color='r'\n",
    "        )\n",
    "plt.xlim(0,5)\n",
    "plt.ylim(0,5)\n",
    "plt.grid()\n",
    "plt.title('2D Vector')\n",
    "plt.xlabel('X axis')\n",
    "plt.ylabel('Y axis')\n",
    "plt.gca().set_aspect('equal',adjustable='box')\n",
    "plt.show()\n",
    "           "
   ]
  },
  {
   "cell_type": "markdown",
   "metadata": {},
   "source": [
    "---\n",
    "Linear Transformation"
   ]
  },
  {
   "cell_type": "code",
   "execution_count": 37,
   "metadata": {},
   "outputs": [
    {
     "data": {
      "image/png": "[encoded data removed]",
      "text/plain": [
       "<Figure size 640x480 with 1 Axes>"
      ]
     },
     "metadata": {},
     "output_type": "display_data"
    }
   ],
   "source": [
    "import numpy as np\n",
    "import matplotlib.pyplot as plt\n",
    "\n",
    "# Define the vector\n",
    "v = np.array([2, 3])\n",
    "\n",
    "# Define the angle for rotation (45 degrees in radians)\n",
    "theta = np.radians(45)\n",
    "\n",
    "# Define the rotation matrix\n",
    "rotation_matrix = np.array([\n",
    "    [np.cos(theta), -np.sin(theta)],\n",
    "    [np.sin(theta), np.cos(theta)]\n",
    "])\n",
    "\n",
    "# Apply the rotation matrix to the vector\n",
    "v_transformed = np.dot(rotation_matrix, v)\n",
    "\n",
    "# Plot the original and transformed vectors\n",
    "plt.figure()\n",
    "plt.quiver(0, 0, v[0], v[1], angles='xy', scale_units='xy', scale=1, color='r', label='Original Vector')\n",
    "plt.quiver(0, 0, v_transformed[0], v_transformed[1], angles='xy', scale_units='xy', scale=1, color='b', label='Transformed Vector')\n",
    "plt.xlim(-2, 5)\n",
    "plt.ylim(-2, 5)\n",
    "plt.grid()\n",
    "plt.title('2D Vector Rotation')\n",
    "plt.xlabel('X axis')\n",
    "plt.ylabel('Y axis')\n",
    "plt.gca().set_aspect('equal', adjustable='box')\n",
    "plt.legend()\n",
    "plt.show()\n"
   ]
  },
  {
   "cell_type": "markdown",
   "metadata": {},
   "source": [
    "---\n",
    "Shear Transformation"
   ]
  },
  {
   "cell_type": "code",
   "execution_count": 38,
   "metadata": {},
   "outputs": [
    {
     "data": {
      "image/png": "[encoded data removed]",
      "text/plain": [
       "<Figure size 800x800 with 1 Axes>"
      ]
     },
     "metadata": {},
     "output_type": "display_data"
    }
   ],
   "source": [
    "import numpy as np\n",
    "import matplotlib.pyplot as plt\n",
    "\n",
    "# Define the vector\n",
    "v = np.array([2, 3])\n",
    "\n",
    "# Define the shear factor\n",
    "k = 0.5\n",
    "\n",
    "# Define the shear transformation matrix for the x-axis\n",
    "shear_matrix = np.array([\n",
    "    [1, k],\n",
    "    [0, 1]\n",
    "])\n",
    "\n",
    "# Apply the shear matrix to the vector\n",
    "v_sheared = np.dot(shear_matrix, v)\n",
    "\n",
    "# Create a grid of points\n",
    "x, y = np.meshgrid(np.linspace(-2, 2, 10), np.linspace(-2, 2, 10))\n",
    "grid_points = np.vstack([x.flatten(), y.flatten()])\n",
    "\n",
    "# Apply the shear matrix to the grid points\n",
    "grid_points_sheared = np.dot(shear_matrix, grid_points)\n",
    "\n",
    "# Plot the original and sheared vectors and grids\n",
    "plt.figure(figsize=(8, 8))\n",
    "\n",
    "# Plot the grid before transformation\n",
    "plt.plot(grid_points[0, :], grid_points[1, :], 'o', color='gray', alpha=0.5, label='Original Grid')\n",
    "plt.quiver(0, 0, v[0], v[1], angles='xy', scale_units='xy', scale=1, color='r', label='Original Vector')\n",
    "\n",
    "# Plot the grid after transformation\n",
    "plt.plot(grid_points_sheared[0, :], grid_points_sheared[1, :], 'o', color='lightblue', alpha=0.5, label='Sheared Grid')\n",
    "plt.quiver(0, 0, v_sheared[0], v_sheared[1], angles='xy', scale_units='xy', scale=1, color='b', label='Sheared Vector')\n",
    "\n",
    "plt.xlim(-2, 5)\n",
    "plt.ylim(-2, 5)\n",
    "plt.grid()\n",
    "plt.title('2D Shear Transformation')\n",
    "plt.xlabel('X axis')\n",
    "plt.ylabel('Y axis')\n",
    "plt.gca().set_aspect('equal', adjustable='box')\n",
    "plt.legend()\n",
    "plt.show()\n"
   ]
  }
 ],
 "metadata": {
  "kernelspec": {
   "display_name": "ydata-profiling",
   "language": "python",
   "name": "python3"
  },
  "language_info": {
   "codemirror_mode": {
    "name": "ipython",
    "version": 3
   },
   "file_extension": ".py",
   "mimetype": "text/x-python",
   "name": "python",
   "nbconvert_exporter": "python",
   "pygments_lexer": "ipython3",
   "version": "3.10.0"
  }
 },
 "nbformat": 4,
 "nbformat_minor": 2
}
