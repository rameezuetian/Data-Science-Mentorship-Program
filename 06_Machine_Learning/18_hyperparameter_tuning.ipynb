{
 "cells": [
  {
   "cell_type": "code",
   "execution_count": 8,
   "metadata": {},
   "outputs": [],
   "source": [
    "# what is hyperparameter \n",
    "# hyperparameter is a parameter that is set before training a model\n",
    "# it is not a model parameter, but a parameter that is used to train the model\n",
    "# example of hyperparameter: learning rate, number of hidden layers, number of neurons in each layer\n",
    "# hyperparameter tuning is the process of finding the best combination of hyperparameters for a model\n",
    "# hyperparameter tuning is a crucial step in machine learning, as it can significantly impact the performance of\n",
    "# a model\n",
    "# hyperparameter tuning can be done using various techniques, such as grid search, random search, and\n",
    "# Bayesian optimization\n",
    "# grid search is a technique where we try all possible combinations of hyperparameters and choose the best\n",
    "# random search is a technique where we randomly sample hyperparameters and choose the best\n",
    "# Bayesian optimization is a technique where we use a probabilistic model to search for the \n",
    "#  best hyperparameters\n",
    "\n",
    "\n"
   ]
  },
  {
   "cell_type": "code",
   "execution_count": 9,
   "metadata": {},
   "outputs": [],
   "source": [
    "# what is cross validation \n",
    "# cross validation is a technique used to evaluate the performance of a model on unseen data\n",
    "# it involves splitting the available data into training and testing sets, training the model on the training set\n",
    "# and then evaluating its performance on the testing set. This process is repeated multiple times with different splits\n",
    "# of the data, and the results are averaged to get a more accurate estimate of the model's\n",
    "# performance on unseen data.\n",
    "#\n"
   ]
  },
  {
   "cell_type": "code",
   "execution_count": 10,
   "metadata": {},
   "outputs": [],
   "source": [
    "# import libraries\n",
    "from sklearn.ensemble import RandomForestClassifier\n",
    "from sklearn.model_selection import train_test_split\n",
    "from sklearn.metrics import accuracy_score, f1_score, confusion_matrix\n",
    "from  sklearn.model_selection import GridSearchCV, RandomizedSearchCV"
   ]
  },
  {
   "cell_type": "code",
   "execution_count": 11,
   "metadata": {},
   "outputs": [],
   "source": [
    "from sklearn.datasets  import load_iris\n",
    "\n",
    "iris =  load_iris()\n",
    "x = iris.data\n",
    "y= iris.target\n"
   ]
  },
  {
   "cell_type": "code",
   "execution_count": 13,
   "metadata": {},
   "outputs": [
    {
     "name": "stdout",
     "output_type": "stream",
     "text": [
      "Fitting 5 folds for each of 25 candidates, totalling 125 fits\n",
      "GridSearchCV(cv=5, estimator=RandomForestClassifier(), n_jobs=-1,\n",
      "             param_grid={'max_depth': [None, 5, 10, 15, 20],\n",
      "                         'n_estimators': [100, 200, 300, 400, 500]},\n",
      "             scoring='accuracy', verbose=1)\n",
      "CPU times: total: 516 ms\n",
      "Wall time: 42.4 s\n"
     ]
    }
   ],
   "source": [
    "%%time\n",
    "# define the model \n",
    "model  =  RandomForestClassifier()\n",
    "\n",
    "# cfate the parameter\n",
    "param_grid = {\n",
    "    'n_estimators': [100, 200, 300, 400, 500],\n",
    "    'max_depth': [None, 5, 10, 15, 20],\n",
    "    }\n",
    "# perform grid search\n",
    "grid_search = GridSearchCV(estimator=model, param_grid=param_grid, cv=5, scoring='accuracy', verbose= 1 ,  n_jobs=-1)\n",
    "grid_search.fit(x,y)\n",
    "\n",
    "print(grid_search)\n",
    "\n"
   ]
  }
 ],
 "metadata": {
  "kernelspec": {
   "display_name": "python_ml",
   "language": "python",
   "name": "python3"
  },
  "language_info": {
   "codemirror_mode": {
    "name": "ipython",
    "version": 3
   },
   "file_extension": ".py",
   "mimetype": "text/x-python",
   "name": "python",
   "nbconvert_exporter": "python",
   "pygments_lexer": "ipython3",
   "version": "3.11.9"
  }
 },
 "nbformat": 4,
 "nbformat_minor": 2
}
