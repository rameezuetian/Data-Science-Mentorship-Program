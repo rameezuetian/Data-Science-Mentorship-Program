{
 "cells": [
  {
   "cell_type": "markdown",
   "metadata": {},
   "source": [
    "# 1. One hot encoding "
   ]
  },
  {
   "cell_type": "code",
   "execution_count": 1,
   "metadata": {},
   "outputs": [
    {
     "name": "stdout",
     "output_type": "stream",
     "text": [
      "   color\n",
      "0    Red\n",
      "1  Green\n",
      "2   Blue\n",
      "3    Red\n",
      "   color_Blue  color_Green  color_Red\n",
      "0       False        False       True\n",
      "1       False         True      False\n",
      "2        True        False      False\n",
      "3       False        False       True\n"
     ]
    }
   ],
   "source": [
    "import pandas as pd \n",
    "data = {'color':['Red','Green','Blue','Red']}\n",
    "df = pd.DataFrame(data)\n",
    "print(df)\n",
    "\n",
    "encoded_data  = pd.get_dummies(df, columns=['color'])\n",
    "print(encoded_data)"
   ]
  },
  {
   "cell_type": "markdown",
   "metadata": {},
   "source": [
    "## 2. Label_encoding"
   ]
  },
  {
   "cell_type": "code",
   "execution_count": 4,
   "metadata": {},
   "outputs": [
    {
     "name": "stdout",
     "output_type": "stream",
     "text": [
      "  Animal\n",
      "0    Dog\n",
      "1    Cat\n",
      "2   Bird\n",
      "3    Dog\n",
      "4   Bird\n",
      "  Animal  Animal_encode\n",
      "0    Dog              2\n",
      "1    Cat              1\n",
      "2   Bird              0\n",
      "3    Dog              2\n",
      "4   Bird              0\n"
     ]
    }
   ],
   "source": [
    "from sklearn.preprocessing import LabelEncoder\n",
    "\n",
    "data = {'Animal':['Dog', 'Cat', 'Bird','Dog','Bird']}\n",
    "df=pd.DataFrame(data)\n",
    "\n",
    "print(df)\n",
    "label=LabelEncoder()\n",
    "df['Animal_encode']=label.fit_transform(df['Animal'])\n",
    "print(df)"
   ]
  },
  {
   "cell_type": "markdown",
   "metadata": {},
   "source": [
    "# 3.Ordinal encoding"
   ]
  },
  {
   "cell_type": "code",
   "execution_count": 7,
   "metadata": {},
   "outputs": [
    {
     "name": "stdout",
     "output_type": "stream",
     "text": [
      "     Size\n",
      "0   Small\n",
      "1  Medium\n",
      "2   Large\n",
      "3  Medium\n",
      "4   Large\n",
      "     Size  Size_encode\n",
      "0   Small          0.0\n",
      "1  Medium          1.0\n",
      "2   Large          2.0\n",
      "3  Medium          1.0\n",
      "4   Large          2.0\n"
     ]
    }
   ],
   "source": [
    "from sklearn.preprocessing import OrdinalEncoder\n",
    "\n",
    "data = {'Size':['Small', 'Medium', 'Large','Medium','Large']}\n",
    "df=pd.DataFrame(data)\n",
    "\n",
    "print(df)\n",
    "label=OrdinalEncoder(categories=[['Small','Medium','Large']])\n",
    "df['Size_encode']=label.fit_transform(df[['Size']])\n",
    "print(df)"
   ]
  }
 ],
 "metadata": {
  "kernelspec": {
   "display_name": "ydata-profiling",
   "language": "python",
   "name": "python3"
  },
  "language_info": {
   "codemirror_mode": {
    "name": "ipython",
    "version": 3
   },
   "file_extension": ".py",
   "mimetype": "text/x-python",
   "name": "python",
   "nbconvert_exporter": "python",
   "pygments_lexer": "ipython3",
   "version": "3.10.0"
  }
 },
 "nbformat": 4,
 "nbformat_minor": 2
}
